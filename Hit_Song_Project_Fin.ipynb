{
 "cells": [
  {
   "cell_type": "code",
   "execution_count": 458,
   "metadata": {},
   "outputs": [],
   "source": [
    "import pandas as pd\n",
    "import numpy as np\n",
    "import matplotlib.pyplot as plt\n",
    "import seaborn as sns\n",
    "import warnings\n",
    "warnings.filterwarnings('ignore')\n",
    "warnings.simplefilter('ignore')\n",
    "pd.set_option('display.max_rows', 99)\n",
    "pd.set_option('display.max_columns', 99)"
   ]
  },
  {
   "cell_type": "code",
   "execution_count": 459,
   "metadata": {},
   "outputs": [],
   "source": [
    "df = pd.read_csv('wm_project.csv')"
   ]
  },
  {
   "cell_type": "code",
   "execution_count": 460,
   "metadata": {},
   "outputs": [
    {
     "data": {
      "text/html": [
       "<div>\n",
       "<style scoped>\n",
       "    .dataframe tbody tr th:only-of-type {\n",
       "        vertical-align: middle;\n",
       "    }\n",
       "\n",
       "    .dataframe tbody tr th {\n",
       "        vertical-align: top;\n",
       "    }\n",
       "\n",
       "    .dataframe thead th {\n",
       "        text-align: right;\n",
       "    }\n",
       "</style>\n",
       "<table border=\"1\" class=\"dataframe\">\n",
       "  <thead>\n",
       "    <tr style=\"text-align: right;\">\n",
       "      <th></th>\n",
       "      <th>id</th>\n",
       "      <th>track</th>\n",
       "      <th>artist</th>\n",
       "      <th>uri</th>\n",
       "      <th>danceability</th>\n",
       "      <th>energy</th>\n",
       "      <th>key</th>\n",
       "      <th>loudness</th>\n",
       "      <th>mode</th>\n",
       "      <th>speechiness</th>\n",
       "      <th>acousticness</th>\n",
       "      <th>instrumentalness</th>\n",
       "      <th>liveness</th>\n",
       "      <th>valence</th>\n",
       "      <th>tempo</th>\n",
       "      <th>duration_ms</th>\n",
       "      <th>time_signature</th>\n",
       "      <th>chorus_hit</th>\n",
       "      <th>sections</th>\n",
       "      <th>hit</th>\n",
       "      <th>decade</th>\n",
       "    </tr>\n",
       "  </thead>\n",
       "  <tbody>\n",
       "    <tr>\n",
       "      <th>0</th>\n",
       "      <td>1</td>\n",
       "      <td>The Continental Walk</td>\n",
       "      <td>The Rollers</td>\n",
       "      <td>spotify:track:00Bu7AiNb06604KMuYTQAi</td>\n",
       "      <td>0.603</td>\n",
       "      <td>0.732</td>\n",
       "      <td>0</td>\n",
       "      <td>-5.647</td>\n",
       "      <td>1</td>\n",
       "      <td>0.0372</td>\n",
       "      <td>0.807</td>\n",
       "      <td>0.000000</td>\n",
       "      <td>0.0993</td>\n",
       "      <td>0.802</td>\n",
       "      <td>105.425</td>\n",
       "      <td>144000</td>\n",
       "      <td>3</td>\n",
       "      <td>31.93079</td>\n",
       "      <td>6</td>\n",
       "      <td>1.0</td>\n",
       "      <td>60s</td>\n",
       "    </tr>\n",
       "    <tr>\n",
       "      <th>1</th>\n",
       "      <td>2</td>\n",
       "      <td>Two Lovers</td>\n",
       "      <td>Mary Wells</td>\n",
       "      <td>spotify:track:00CmjeeHvAVKvx3tcIiZTy</td>\n",
       "      <td>0.678</td>\n",
       "      <td>0.405</td>\n",
       "      <td>2</td>\n",
       "      <td>-16.965</td>\n",
       "      <td>1</td>\n",
       "      <td>0.0304</td>\n",
       "      <td>0.426</td>\n",
       "      <td>0.000000</td>\n",
       "      <td>0.1090</td>\n",
       "      <td>0.960</td>\n",
       "      <td>105.902</td>\n",
       "      <td>167000</td>\n",
       "      <td>4</td>\n",
       "      <td>29.18796</td>\n",
       "      <td>8</td>\n",
       "      <td>1.0</td>\n",
       "      <td>60s</td>\n",
       "    </tr>\n",
       "    <tr>\n",
       "      <th>2</th>\n",
       "      <td>3</td>\n",
       "      <td>If I Knew</td>\n",
       "      <td>Nat King Cole</td>\n",
       "      <td>spotify:track:00Vwp9jQUs52JOnbbLaz5e</td>\n",
       "      <td>0.371</td>\n",
       "      <td>0.386</td>\n",
       "      <td>1</td>\n",
       "      <td>-9.238</td>\n",
       "      <td>1</td>\n",
       "      <td>0.0308</td>\n",
       "      <td>0.708</td>\n",
       "      <td>0.000467</td>\n",
       "      <td>0.0787</td>\n",
       "      <td>0.169</td>\n",
       "      <td>80.207</td>\n",
       "      <td>168000</td>\n",
       "      <td>4</td>\n",
       "      <td>57.12898</td>\n",
       "      <td>7</td>\n",
       "      <td>1.0</td>\n",
       "      <td>60s</td>\n",
       "    </tr>\n",
       "    <tr>\n",
       "      <th>3</th>\n",
       "      <td>4</td>\n",
       "      <td>Lara's Theme from \"Dr. Zhivago\"</td>\n",
       "      <td>Roger Williams</td>\n",
       "      <td>spotify:track:00YhuN9oOmXUyLQiHjXPxt</td>\n",
       "      <td>0.361</td>\n",
       "      <td>0.280</td>\n",
       "      <td>7</td>\n",
       "      <td>-13.422</td>\n",
       "      <td>1</td>\n",
       "      <td>0.0294</td>\n",
       "      <td>0.821</td>\n",
       "      <td>0.435000</td>\n",
       "      <td>0.1440</td>\n",
       "      <td>0.213</td>\n",
       "      <td>82.298</td>\n",
       "      <td>160000</td>\n",
       "      <td>3</td>\n",
       "      <td>38.22192</td>\n",
       "      <td>8</td>\n",
       "      <td>1.0</td>\n",
       "      <td>60s</td>\n",
       "    </tr>\n",
       "    <tr>\n",
       "      <th>4</th>\n",
       "      <td>5</td>\n",
       "      <td>Say Wonderful Things</td>\n",
       "      <td>Patti Page</td>\n",
       "      <td>spotify:track:010BIyGminG03GMg8afVAq</td>\n",
       "      <td>0.490</td>\n",
       "      <td>0.440</td>\n",
       "      <td>3</td>\n",
       "      <td>-9.387</td>\n",
       "      <td>1</td>\n",
       "      <td>0.0321</td>\n",
       "      <td>0.874</td>\n",
       "      <td>0.000000</td>\n",
       "      <td>0.3370</td>\n",
       "      <td>0.426</td>\n",
       "      <td>109.329</td>\n",
       "      <td>140000</td>\n",
       "      <td>3</td>\n",
       "      <td>21.83825</td>\n",
       "      <td>7</td>\n",
       "      <td>1.0</td>\n",
       "      <td>60s</td>\n",
       "    </tr>\n",
       "  </tbody>\n",
       "</table>\n",
       "</div>"
      ],
      "text/plain": [
       "   id                            track          artist  \\\n",
       "0   1             The Continental Walk     The Rollers   \n",
       "1   2                       Two Lovers      Mary Wells   \n",
       "2   3                        If I Knew   Nat King Cole   \n",
       "3   4  Lara's Theme from \"Dr. Zhivago\"  Roger Williams   \n",
       "4   5             Say Wonderful Things      Patti Page   \n",
       "\n",
       "                                    uri  danceability  energy  key  loudness  \\\n",
       "0  spotify:track:00Bu7AiNb06604KMuYTQAi         0.603   0.732    0    -5.647   \n",
       "1  spotify:track:00CmjeeHvAVKvx3tcIiZTy         0.678   0.405    2   -16.965   \n",
       "2  spotify:track:00Vwp9jQUs52JOnbbLaz5e         0.371   0.386    1    -9.238   \n",
       "3  spotify:track:00YhuN9oOmXUyLQiHjXPxt         0.361   0.280    7   -13.422   \n",
       "4  spotify:track:010BIyGminG03GMg8afVAq         0.490   0.440    3    -9.387   \n",
       "\n",
       "   mode  speechiness  acousticness  instrumentalness  liveness  valence  \\\n",
       "0     1       0.0372         0.807          0.000000    0.0993    0.802   \n",
       "1     1       0.0304         0.426          0.000000    0.1090    0.960   \n",
       "2     1       0.0308         0.708          0.000467    0.0787    0.169   \n",
       "3     1       0.0294         0.821          0.435000    0.1440    0.213   \n",
       "4     1       0.0321         0.874          0.000000    0.3370    0.426   \n",
       "\n",
       "     tempo  duration_ms  time_signature  chorus_hit  sections  hit decade  \n",
       "0  105.425       144000               3    31.93079         6  1.0    60s  \n",
       "1  105.902       167000               4    29.18796         8  1.0    60s  \n",
       "2   80.207       168000               4    57.12898         7  1.0    60s  \n",
       "3   82.298       160000               3    38.22192         8  1.0    60s  \n",
       "4  109.329       140000               3    21.83825         7  1.0    60s  "
      ]
     },
     "execution_count": 460,
     "metadata": {},
     "output_type": "execute_result"
    }
   ],
   "source": [
    "df.head()"
   ]
  },
  {
   "cell_type": "code",
   "execution_count": 461,
   "metadata": {},
   "outputs": [
    {
     "data": {
      "text/plain": [
       "(40886, 21)"
      ]
     },
     "execution_count": 461,
     "metadata": {},
     "output_type": "execute_result"
    }
   ],
   "source": [
    "df.shape"
   ]
  },
  {
   "cell_type": "markdown",
   "metadata": {},
   "source": [
    "<div class=\"alert alert-block alert-info\">\n",
    "This dataset has 40886 observations and 21 variables.\n",
    "</div>"
   ]
  },
  {
   "cell_type": "markdown",
   "metadata": {},
   "source": [
    "# Data Cleaning"
   ]
  },
  {
   "cell_type": "code",
   "execution_count": 462,
   "metadata": {},
   "outputs": [
    {
     "data": {
      "text/plain": [
       "id                  0.0000\n",
       "track               0.0000\n",
       "artist              0.0000\n",
       "uri                 0.0000\n",
       "danceability        0.0000\n",
       "energy              0.0000\n",
       "key                 0.0000\n",
       "loudness            0.0000\n",
       "mode                0.0000\n",
       "speechiness         0.0000\n",
       "acousticness        0.0000\n",
       "instrumentalness    0.0000\n",
       "liveness            0.0000\n",
       "valence             0.0000\n",
       "tempo               0.0000\n",
       "duration_ms         0.0000\n",
       "time_signature      0.0000\n",
       "chorus_hit          0.0000\n",
       "sections            0.0000\n",
       "hit                 0.1817\n",
       "decade              0.0000\n",
       "dtype: float64"
      ]
     },
     "execution_count": 462,
     "metadata": {},
     "output_type": "execute_result"
    }
   ],
   "source": [
    "df.isna().sum()/df.shape[0]"
   ]
  },
  {
   "cell_type": "markdown",
   "metadata": {},
   "source": [
    "<div class=\"alert alert-block alert-info\">\n",
    "I will use only the observations with not-null [hit] value to build my model. The test will be predicted later. \n",
    "</div>"
   ]
  },
  {
   "cell_type": "code",
   "execution_count": 463,
   "metadata": {},
   "outputs": [],
   "source": [
    "# Take only the observations with hit as traning dataset, the rest as test dataset\n",
    "train = df[df.hit.notnull()]\n",
    "test = df[df.hit.isna()]"
   ]
  },
  {
   "cell_type": "code",
   "execution_count": 464,
   "metadata": {},
   "outputs": [
    {
     "data": {
      "text/plain": [
       "(33457, 21)"
      ]
     },
     "execution_count": 464,
     "metadata": {},
     "output_type": "execute_result"
    }
   ],
   "source": [
    "train.shape"
   ]
  },
  {
   "cell_type": "markdown",
   "metadata": {},
   "source": [
    "<div class=\"alert alert-block alert-info\">\n",
    "Now the dataset is down to 33457 observations and 21 variables.\n",
    "</div>"
   ]
  },
  {
   "cell_type": "markdown",
   "metadata": {},
   "source": [
    "# EDA"
   ]
  },
  {
   "cell_type": "code",
   "execution_count": 465,
   "metadata": {},
   "outputs": [
    {
     "name": "stdout",
     "output_type": "stream",
     "text": [
      "<class 'pandas.core.frame.DataFrame'>\n",
      "Int64Index: 33457 entries, 0 to 33456\n",
      "Data columns (total 21 columns):\n",
      " #   Column            Non-Null Count  Dtype  \n",
      "---  ------            --------------  -----  \n",
      " 0   id                33457 non-null  int64  \n",
      " 1   track             33457 non-null  object \n",
      " 2   artist            33457 non-null  object \n",
      " 3   uri               33457 non-null  object \n",
      " 4   danceability      33457 non-null  float64\n",
      " 5   energy            33457 non-null  float64\n",
      " 6   key               33457 non-null  int64  \n",
      " 7   loudness          33457 non-null  float64\n",
      " 8   mode              33457 non-null  int64  \n",
      " 9   speechiness       33457 non-null  float64\n",
      " 10  acousticness      33457 non-null  float64\n",
      " 11  instrumentalness  33457 non-null  float64\n",
      " 12  liveness          33457 non-null  float64\n",
      " 13  valence           33457 non-null  float64\n",
      " 14  tempo             33457 non-null  float64\n",
      " 15  duration_ms       33457 non-null  int64  \n",
      " 16  time_signature    33457 non-null  int64  \n",
      " 17  chorus_hit        33457 non-null  float64\n",
      " 18  sections          33457 non-null  int64  \n",
      " 19  hit               33457 non-null  float64\n",
      " 20  decade            33457 non-null  object \n",
      "dtypes: float64(11), int64(6), object(4)\n",
      "memory usage: 5.6+ MB\n"
     ]
    }
   ],
   "source": [
    "train.info()"
   ]
  },
  {
   "cell_type": "code",
   "execution_count": 466,
   "metadata": {},
   "outputs": [
    {
     "data": {
      "text/plain": [
       "0.73"
      ]
     },
     "execution_count": 466,
     "metadata": {},
     "output_type": "execute_result"
    }
   ],
   "source": [
    "# track\n",
    "round(train['track'].nunique()/df.shape[0],2)"
   ]
  },
  {
   "cell_type": "code",
   "execution_count": 467,
   "metadata": {},
   "outputs": [
    {
     "data": {
      "text/plain": [
       "0.26"
      ]
     },
     "execution_count": 467,
     "metadata": {},
     "output_type": "execute_result"
    }
   ],
   "source": [
    "# artist\n",
    "round(train['artist'].nunique()/df.shape[0],2)"
   ]
  },
  {
   "cell_type": "code",
   "execution_count": 468,
   "metadata": {},
   "outputs": [
    {
     "data": {
      "text/plain": [
       "0.81"
      ]
     },
     "execution_count": 468,
     "metadata": {},
     "output_type": "execute_result"
    }
   ],
   "source": [
    "# uri\n",
    "round(train['uri'].nunique()/df.shape[0],2)"
   ]
  },
  {
   "cell_type": "markdown",
   "metadata": {},
   "source": [
    "<div class=\"alert alert-block alert-info\">\n",
    "Above 3 variables <b>track</b>, <b>artist</b> and <b>uri</b> have too many levels which won't help with building a effective model. I will drop those features.\n",
    "</div>"
   ]
  },
  {
   "cell_type": "code",
   "execution_count": 469,
   "metadata": {},
   "outputs": [],
   "source": [
    "# danceability"
   ]
  },
  {
   "cell_type": "code",
   "execution_count": 470,
   "metadata": {},
   "outputs": [
    {
     "data": {
      "text/plain": [
       "<AxesSubplot:xlabel='danceability', ylabel='Density'>"
      ]
     },
     "execution_count": 470,
     "metadata": {},
     "output_type": "execute_result"
    },
    {
     "data": {
      "image/png": "[encoded data removed]",
      "text/plain": [
       "<Figure size 432x288 with 1 Axes>"
      ]
     },
     "metadata": {
      "needs_background": "light"
     },
     "output_type": "display_data"
    }
   ],
   "source": [
    "sns.distplot(train.danceability, 20)"
   ]
  },
  {
   "cell_type": "code",
   "execution_count": 471,
   "metadata": {},
   "outputs": [
    {
     "data": {
      "text/plain": [
       "<AxesSubplot:xlabel='hit', ylabel='danceability'>"
      ]
     },
     "execution_count": 471,
     "metadata": {},
     "output_type": "execute_result"
    },
    {
     "data": {
      "image/png": "[encoded data removed]",
      "text/plain": [
       "<Figure size 432x288 with 1 Axes>"
      ]
     },
     "metadata": {
      "needs_background": "light"
     },
     "output_type": "display_data"
    }
   ],
   "source": [
    "sns.boxplot(x=\"hit\", y=\"danceability\", data=train)"
   ]
  },
  {
   "cell_type": "markdown",
   "metadata": {},
   "source": [
    "<div class=\"alert alert-block alert-info\">\n",
    "Hit songs on average have relatively higher danceability.\n",
    "</div>"
   ]
  },
  {
   "cell_type": "code",
   "execution_count": 472,
   "metadata": {},
   "outputs": [],
   "source": [
    "# energy"
   ]
  },
  {
   "cell_type": "code",
   "execution_count": 473,
   "metadata": {},
   "outputs": [
    {
     "data": {
      "text/plain": [
       "<AxesSubplot:xlabel='energy', ylabel='Density'>"
      ]
     },
     "execution_count": 473,
     "metadata": {},
     "output_type": "execute_result"
    },
    {
     "data": {
      "image/png": "[encoded data removed]",
      "text/plain": [
       "<Figure size 432x288 with 1 Axes>"
      ]
     },
     "metadata": {
      "needs_background": "light"
     },
     "output_type": "display_data"
    }
   ],
   "source": [
    "sns.distplot(train.energy, 20)"
   ]
  },
  {
   "cell_type": "code",
   "execution_count": 474,
   "metadata": {},
   "outputs": [
    {
     "data": {
      "text/plain": [
       "<AxesSubplot:xlabel='hit', ylabel='energy'>"
      ]
     },
     "execution_count": 474,
     "metadata": {},
     "output_type": "execute_result"
    },
    {
     "data": {
      "image/png": "[encoded data removed]",
      "text/plain": [
       "<Figure size 432x288 with 1 Axes>"
      ]
     },
     "metadata": {
      "needs_background": "light"
     },
     "output_type": "display_data"
    }
   ],
   "source": [
    "sns.boxplot(x=\"hit\", y=\"energy\", data=train)"
   ]
  },
  {
   "cell_type": "markdown",
   "metadata": {},
   "source": [
    "<div class=\"alert alert-block alert-info\">\n",
    "Hit songs on average have higher energy. Their distribution of energy is denser between around 0.5-0.8.\n",
    "</div>"
   ]
  },
  {
   "cell_type": "code",
   "execution_count": 475,
   "metadata": {},
   "outputs": [],
   "source": [
    "# key"
   ]
  },
  {
   "cell_type": "code",
   "execution_count": 476,
   "metadata": {},
   "outputs": [
    {
     "data": {
      "text/plain": [
       "<AxesSubplot:xlabel='key'>"
      ]
     },
     "execution_count": 476,
     "metadata": {},
     "output_type": "execute_result"
    },
    {
     "data": {
      "image/png": "[encoded data removed]",
      "text/plain": [
       "<Figure size 432x288 with 1 Axes>"
      ]
     },
     "metadata": {
      "needs_background": "light"
     },
     "output_type": "display_data"
    }
   ],
   "source": [
    "pd.crosstab(train['key'], train['hit']).plot(kind='bar', stacked=True)"
   ]
  },
  {
   "cell_type": "markdown",
   "metadata": {},
   "source": [
    "<div class=\"alert alert-block alert-info\">\n",
    "Hit/Not-Hit distribution looks similar among different keys, which might lead to Key as a feature having no enough predictive power.\n",
    "</div>"
   ]
  },
  {
   "cell_type": "code",
   "execution_count": 477,
   "metadata": {},
   "outputs": [],
   "source": [
    "# loudness"
   ]
  },
  {
   "cell_type": "code",
   "execution_count": 478,
   "metadata": {},
   "outputs": [
    {
     "data": {
      "text/plain": [
       "<AxesSubplot:xlabel='loudness', ylabel='Density'>"
      ]
     },
     "execution_count": 478,
     "metadata": {},
     "output_type": "execute_result"
    },
    {
     "data": {
      "image/png": "[encoded data removed]",
      "text/plain": [
       "<Figure size 432x288 with 1 Axes>"
      ]
     },
     "metadata": {
      "needs_background": "light"
     },
     "output_type": "display_data"
    }
   ],
   "source": [
    "sns.distplot(train.loudness, 20)"
   ]
  },
  {
   "cell_type": "code",
   "execution_count": 479,
   "metadata": {},
   "outputs": [
    {
     "data": {
      "text/plain": [
       "<AxesSubplot:xlabel='hit', ylabel='loudness'>"
      ]
     },
     "execution_count": 479,
     "metadata": {},
     "output_type": "execute_result"
    },
    {
     "data": {
      "image/png": "[encoded data removed]",
      "text/plain": [
       "<Figure size 432x288 with 1 Axes>"
      ]
     },
     "metadata": {
      "needs_background": "light"
     },
     "output_type": "display_data"
    }
   ],
   "source": [
    "sns.boxplot(x=\"hit\", y=\"loudness\", data=train)"
   ]
  },
  {
   "cell_type": "markdown",
   "metadata": {},
   "source": [
    "<div class=\"alert alert-block alert-info\">\n",
    "Hit songs on average are louder\n",
    "</div>"
   ]
  },
  {
   "cell_type": "code",
   "execution_count": 480,
   "metadata": {},
   "outputs": [],
   "source": [
    "# mode"
   ]
  },
  {
   "cell_type": "code",
   "execution_count": 481,
   "metadata": {},
   "outputs": [
    {
     "data": {
      "text/plain": [
       "<AxesSubplot:xlabel='mode'>"
      ]
     },
     "execution_count": 481,
     "metadata": {},
     "output_type": "execute_result"
    },
    {
     "data": {
      "image/png": "[encoded data removed]",
      "text/plain": [
       "<Figure size 432x288 with 1 Axes>"
      ]
     },
     "metadata": {
      "needs_background": "light"
     },
     "output_type": "display_data"
    }
   ],
   "source": [
    "pd.crosstab(train['mode'], train['hit']).plot(kind='bar', stacked=True)"
   ]
  },
  {
   "cell_type": "markdown",
   "metadata": {},
   "source": [
    "<div class=\"alert alert-block alert-info\">\n",
    "There are higher percentage of hit songs in Major track (mode=1)\n",
    "</div>"
   ]
  },
  {
   "cell_type": "code",
   "execution_count": 482,
   "metadata": {},
   "outputs": [],
   "source": [
    "# speechiness"
   ]
  },
  {
   "cell_type": "code",
   "execution_count": 483,
   "metadata": {},
   "outputs": [
    {
     "data": {
      "text/plain": [
       "<AxesSubplot:xlabel='hit', ylabel='speechiness'>"
      ]
     },
     "execution_count": 483,
     "metadata": {},
     "output_type": "execute_result"
    },
    {
     "data": {
      "image/png": "[encoded data removed]",
      "text/plain": [
       "<Figure size 720x720 with 1 Axes>"
      ]
     },
     "metadata": {
      "needs_background": "light"
     },
     "output_type": "display_data"
    }
   ],
   "source": [
    "fig, ax = plt.subplots(figsize=(10, 10))\n",
    "sns.boxplot(x=\"hit\", y=\"speechiness\", data=train,ax=ax)"
   ]
  },
  {
   "cell_type": "code",
   "execution_count": 484,
   "metadata": {},
   "outputs": [
    {
     "data": {
      "text/plain": [
       "<AxesSubplot:xlabel='speechiness', ylabel='Density'>"
      ]
     },
     "execution_count": 484,
     "metadata": {},
     "output_type": "execute_result"
    },
    {
     "data": {
      "image/png": "[encoded data removed]",
      "text/plain": [
       "<Figure size 432x288 with 1 Axes>"
      ]
     },
     "metadata": {
      "needs_background": "light"
     },
     "output_type": "display_data"
    }
   ],
   "source": [
    "sns.distplot(train.speechiness, 20)"
   ]
  },
  {
   "cell_type": "markdown",
   "metadata": {},
   "source": [
    "<div class=\"alert alert-block alert-info\">\n",
    "Overall songs have low speechiness level. Hit songs on average have even lower speechiness level compared with non-hit songs.\n",
    "</div>"
   ]
  },
  {
   "cell_type": "code",
   "execution_count": 485,
   "metadata": {},
   "outputs": [],
   "source": [
    "# acousticness"
   ]
  },
  {
   "cell_type": "code",
   "execution_count": 486,
   "metadata": {},
   "outputs": [
    {
     "data": {
      "text/plain": [
       "<AxesSubplot:xlabel='acousticness', ylabel='Density'>"
      ]
     },
     "execution_count": 486,
     "metadata": {},
     "output_type": "execute_result"
    },
    {
     "data": {
      "image/png": "[encoded data removed]",
      "text/plain": [
       "<Figure size 432x288 with 1 Axes>"
      ]
     },
     "metadata": {
      "needs_background": "light"
     },
     "output_type": "display_data"
    }
   ],
   "source": [
    "sns.distplot(train.acousticness, 20)"
   ]
  },
  {
   "cell_type": "code",
   "execution_count": 487,
   "metadata": {},
   "outputs": [
    {
     "data": {
      "text/plain": [
       "<AxesSubplot:xlabel='hit', ylabel='acousticness'>"
      ]
     },
     "execution_count": 487,
     "metadata": {},
     "output_type": "execute_result"
    },
    {
     "data": {
      "image/png": "[encoded data removed]",
      "text/plain": [
       "<Figure size 432x288 with 1 Axes>"
      ]
     },
     "metadata": {
      "needs_background": "light"
     },
     "output_type": "display_data"
    }
   ],
   "source": [
    "sns.boxplot(x=\"hit\", y=\"acousticness\", data=train)"
   ]
  },
  {
   "cell_type": "markdown",
   "metadata": {},
   "source": [
    "<div class=\"alert alert-block alert-info\">\n",
    "Hit songs have on average lower acousticness level.\n",
    "</div>"
   ]
  },
  {
   "cell_type": "code",
   "execution_count": 488,
   "metadata": {},
   "outputs": [],
   "source": [
    "# instrumentalness"
   ]
  },
  {
   "cell_type": "code",
   "execution_count": 489,
   "metadata": {},
   "outputs": [
    {
     "data": {
      "text/plain": [
       "<AxesSubplot:xlabel='instrumentalness', ylabel='Density'>"
      ]
     },
     "execution_count": 489,
     "metadata": {},
     "output_type": "execute_result"
    },
    {
     "data": {
      "image/png": "[encoded data removed]",
      "text/plain": [
       "<Figure size 432x288 with 1 Axes>"
      ]
     },
     "metadata": {
      "needs_background": "light"
     },
     "output_type": "display_data"
    }
   ],
   "source": [
    "sns.distplot(train.instrumentalness, 20)"
   ]
  },
  {
   "cell_type": "code",
   "execution_count": 490,
   "metadata": {},
   "outputs": [
    {
     "data": {
      "text/plain": [
       "<AxesSubplot:xlabel='hit', ylabel='instrumentalness'>"
      ]
     },
     "execution_count": 490,
     "metadata": {},
     "output_type": "execute_result"
    },
    {
     "data": {
      "image/png": "[encoded data removed]",
      "text/plain": [
       "<Figure size 432x288 with 1 Axes>"
      ]
     },
     "metadata": {
      "needs_background": "light"
     },
     "output_type": "display_data"
    }
   ],
   "source": [
    "sns.boxplot(x=\"hit\", y=\"instrumentalness\", data=train)"
   ]
  },
  {
   "cell_type": "code",
   "execution_count": 491,
   "metadata": {},
   "outputs": [
    {
     "data": {
      "text/plain": [
       "hit\n",
       "0.0    0.279190\n",
       "1.0    0.030187\n",
       "Name: instrumentalness, dtype: float64"
      ]
     },
     "execution_count": 491,
     "metadata": {},
     "output_type": "execute_result"
    }
   ],
   "source": [
    "train.groupby('hit')['instrumentalness'].mean()"
   ]
  },
  {
   "cell_type": "markdown",
   "metadata": {},
   "source": [
    "<div class=\"alert alert-block alert-info\">\n",
    "Hit songs have more skewed distribution of instrumentalness while non-hit songs are mostly distributed around 0-0.5 instrumentalness.\n",
    "</div>"
   ]
  },
  {
   "cell_type": "code",
   "execution_count": 492,
   "metadata": {},
   "outputs": [],
   "source": [
    "# liveness"
   ]
  },
  {
   "cell_type": "code",
   "execution_count": 493,
   "metadata": {},
   "outputs": [
    {
     "data": {
      "text/plain": [
       "<AxesSubplot:xlabel='liveness', ylabel='Density'>"
      ]
     },
     "execution_count": 493,
     "metadata": {},
     "output_type": "execute_result"
    },
    {
     "data": {
      "image/png": "[encoded data removed]",
      "text/plain": [
       "<Figure size 432x288 with 1 Axes>"
      ]
     },
     "metadata": {
      "needs_background": "light"
     },
     "output_type": "display_data"
    }
   ],
   "source": [
    "sns.distplot(train.liveness, 20)"
   ]
  },
  {
   "cell_type": "code",
   "execution_count": 494,
   "metadata": {},
   "outputs": [
    {
     "data": {
      "text/plain": [
       "<AxesSubplot:xlabel='hit', ylabel='liveness'>"
      ]
     },
     "execution_count": 494,
     "metadata": {},
     "output_type": "execute_result"
    },
    {
     "data": {
      "image/png": "[encoded data removed]",
      "text/plain": [
       "<Figure size 432x288 with 1 Axes>"
      ]
     },
     "metadata": {
      "needs_background": "light"
     },
     "output_type": "display_data"
    }
   ],
   "source": [
    "sns.boxplot(x=\"hit\", y=\"liveness\", data=train)"
   ]
  },
  {
   "cell_type": "code",
   "execution_count": 495,
   "metadata": {},
   "outputs": [
    {
     "data": {
      "text/plain": [
       "hit\n",
       "0.0    0.211887\n",
       "1.0    0.192025\n",
       "Name: liveness, dtype: float64"
      ]
     },
     "execution_count": 495,
     "metadata": {},
     "output_type": "execute_result"
    }
   ],
   "source": [
    "train.groupby('hit')['liveness'].mean()"
   ]
  },
  {
   "cell_type": "markdown",
   "metadata": {},
   "source": [
    "<div class=\"alert alert-block alert-info\">\n",
    "Hit songs have lower level of liveness\n",
    "</div>"
   ]
  },
  {
   "cell_type": "code",
   "execution_count": 496,
   "metadata": {},
   "outputs": [],
   "source": [
    "# valence"
   ]
  },
  {
   "cell_type": "code",
   "execution_count": 497,
   "metadata": {},
   "outputs": [
    {
     "data": {
      "text/plain": [
       "<AxesSubplot:xlabel='valence', ylabel='Density'>"
      ]
     },
     "execution_count": 497,
     "metadata": {},
     "output_type": "execute_result"
    },
    {
     "data": {
      "image/png": "[encoded data removed]",
      "text/plain": [
       "<Figure size 432x288 with 1 Axes>"
      ]
     },
     "metadata": {
      "needs_background": "light"
     },
     "output_type": "display_data"
    }
   ],
   "source": [
    "sns.distplot(train.valence, 20)"
   ]
  },
  {
   "cell_type": "code",
   "execution_count": 498,
   "metadata": {},
   "outputs": [
    {
     "data": {
      "text/plain": [
       "<AxesSubplot:xlabel='hit', ylabel='valence'>"
      ]
     },
     "execution_count": 498,
     "metadata": {},
     "output_type": "execute_result"
    },
    {
     "data": {
      "image/png": "[encoded data removed]",
      "text/plain": [
       "<Figure size 432x288 with 1 Axes>"
      ]
     },
     "metadata": {
      "needs_background": "light"
     },
     "output_type": "display_data"
    }
   ],
   "source": [
    "sns.boxplot(x=\"hit\", y=\"valence\", data=train)"
   ]
  },
  {
   "cell_type": "markdown",
   "metadata": {},
   "source": [
    "<div class=\"alert alert-block alert-info\">\n",
    "Hit songs have higher level of valence on average\n",
    "</div>"
   ]
  },
  {
   "cell_type": "code",
   "execution_count": 499,
   "metadata": {},
   "outputs": [],
   "source": [
    "# tempo"
   ]
  },
  {
   "cell_type": "code",
   "execution_count": 500,
   "metadata": {},
   "outputs": [
    {
     "data": {
      "text/plain": [
       "<AxesSubplot:xlabel='tempo', ylabel='Density'>"
      ]
     },
     "execution_count": 500,
     "metadata": {},
     "output_type": "execute_result"
    },
    {
     "data": {
      "image/png": "[encoded data removed]",
      "text/plain": [
       "<Figure size 432x288 with 1 Axes>"
      ]
     },
     "metadata": {
      "needs_background": "light"
     },
     "output_type": "display_data"
    }
   ],
   "source": [
    "sns.distplot(train.tempo, 20)"
   ]
  },
  {
   "cell_type": "code",
   "execution_count": 501,
   "metadata": {},
   "outputs": [
    {
     "data": {
      "text/plain": [
       "<AxesSubplot:xlabel='hit', ylabel='tempo'>"
      ]
     },
     "execution_count": 501,
     "metadata": {},
     "output_type": "execute_result"
    },
    {
     "data": {
      "image/png": "[encoded data removed]",
      "text/plain": [
       "<Figure size 720x720 with 1 Axes>"
      ]
     },
     "metadata": {
      "needs_background": "light"
     },
     "output_type": "display_data"
    }
   ],
   "source": [
    "fig, ax = plt.subplots(figsize=(10, 10))\n",
    "sns.boxplot(x=\"hit\", y=\"tempo\", data=train,ax=ax)"
   ]
  },
  {
   "cell_type": "code",
   "execution_count": 502,
   "metadata": {},
   "outputs": [
    {
     "data": {
      "text/plain": [
       "hit\n",
       "0.0    118.332678\n",
       "1.0    120.294403\n",
       "Name: tempo, dtype: float64"
      ]
     },
     "execution_count": 502,
     "metadata": {},
     "output_type": "execute_result"
    }
   ],
   "source": [
    "train.groupby('hit')['tempo'].mean()"
   ]
  },
  {
   "cell_type": "markdown",
   "metadata": {},
   "source": [
    "<div class=\"alert alert-block alert-info\">\n",
    "Hit songs have higher level of tempo on average\n",
    "</div>"
   ]
  },
  {
   "cell_type": "code",
   "execution_count": 503,
   "metadata": {},
   "outputs": [],
   "source": [
    "# duration_ms"
   ]
  },
  {
   "cell_type": "code",
   "execution_count": 504,
   "metadata": {},
   "outputs": [
    {
     "data": {
      "text/plain": [
       "<AxesSubplot:xlabel='duration_ms', ylabel='Density'>"
      ]
     },
     "execution_count": 504,
     "metadata": {},
     "output_type": "execute_result"
    },
    {
     "data": {
      "image/png": "[encoded data removed]",
      "text/plain": [
       "<Figure size 432x288 with 1 Axes>"
      ]
     },
     "metadata": {
      "needs_background": "light"
     },
     "output_type": "display_data"
    }
   ],
   "source": [
    "sns.distplot(train.duration_ms, 20)"
   ]
  },
  {
   "cell_type": "code",
   "execution_count": 505,
   "metadata": {
    "scrolled": false
   },
   "outputs": [
    {
     "data": {
      "text/plain": [
       "<AxesSubplot:xlabel='hit', ylabel='duration_ms'>"
      ]
     },
     "execution_count": 505,
     "metadata": {},
     "output_type": "execute_result"
    },
    {
     "data": {
      "image/png": "[encoded data removed]",
      "text/plain": [
       "<Figure size 720x720 with 1 Axes>"
      ]
     },
     "metadata": {
      "needs_background": "light"
     },
     "output_type": "display_data"
    }
   ],
   "source": [
    "fig, ax = plt.subplots(figsize=(10, 10))\n",
    "sns.boxplot(x=\"hit\", y=\"duration_ms\", data=train, ax=ax)"
   ]
  },
  {
   "cell_type": "code",
   "execution_count": 506,
   "metadata": {},
   "outputs": [
    {
     "data": {
      "text/plain": [
       "hit\n",
       "0.0    243868.588972\n",
       "1.0    225525.853369\n",
       "Name: duration_ms, dtype: float64"
      ]
     },
     "execution_count": 506,
     "metadata": {},
     "output_type": "execute_result"
    }
   ],
   "source": [
    "train.groupby('hit')['duration_ms'].mean()"
   ]
  },
  {
   "cell_type": "markdown",
   "metadata": {},
   "source": [
    "<div class=\"alert alert-block alert-info\">\n",
    "Hit songs on average is shorter\n",
    "</div>"
   ]
  },
  {
   "cell_type": "code",
   "execution_count": 507,
   "metadata": {},
   "outputs": [],
   "source": [
    "# time_signature"
   ]
  },
  {
   "cell_type": "code",
   "execution_count": 508,
   "metadata": {},
   "outputs": [
    {
     "data": {
      "text/plain": [
       "4    29574\n",
       "3     3091\n",
       "5      481\n",
       "1      309\n",
       "0        2\n",
       "Name: time_signature, dtype: int64"
      ]
     },
     "execution_count": 508,
     "metadata": {},
     "output_type": "execute_result"
    }
   ],
   "source": [
    "train.time_signature.value_counts()"
   ]
  },
  {
   "cell_type": "code",
   "execution_count": 509,
   "metadata": {},
   "outputs": [
    {
     "data": {
      "text/plain": [
       "<AxesSubplot:xlabel='time_signature'>"
      ]
     },
     "execution_count": 509,
     "metadata": {},
     "output_type": "execute_result"
    },
    {
     "data": {
      "image/png": "[encoded data removed]",
      "text/plain": [
       "<Figure size 432x288 with 1 Axes>"
      ]
     },
     "metadata": {
      "needs_background": "light"
     },
     "output_type": "display_data"
    }
   ],
   "source": [
    "pd.crosstab(train['time_signature'], train['hit']).plot(kind='bar', stacked=True)"
   ]
  },
  {
   "cell_type": "markdown",
   "metadata": {},
   "source": [
    "<div class=\"alert alert-block alert-info\">\n",
    "Most songs have 4 as time_signature, and time_signature=4 has a highest percentage of hit songs.\n",
    "</div>"
   ]
  },
  {
   "cell_type": "code",
   "execution_count": 510,
   "metadata": {},
   "outputs": [],
   "source": [
    "# chorus_hit"
   ]
  },
  {
   "cell_type": "code",
   "execution_count": 511,
   "metadata": {},
   "outputs": [
    {
     "data": {
      "text/plain": [
       "<AxesSubplot:xlabel='chorus_hit', ylabel='Density'>"
      ]
     },
     "execution_count": 511,
     "metadata": {},
     "output_type": "execute_result"
    },
    {
     "data": {
      "image/png": "[encoded data removed]",
      "text/plain": [
       "<Figure size 432x288 with 1 Axes>"
      ]
     },
     "metadata": {
      "needs_background": "light"
     },
     "output_type": "display_data"
    }
   ],
   "source": [
    "sns.distplot(train.chorus_hit, 20)"
   ]
  },
  {
   "cell_type": "code",
   "execution_count": 512,
   "metadata": {},
   "outputs": [
    {
     "data": {
      "text/plain": [
       "<AxesSubplot:xlabel='hit', ylabel='chorus_hit'>"
      ]
     },
     "execution_count": 512,
     "metadata": {},
     "output_type": "execute_result"
    },
    {
     "data": {
      "image/png": "[encoded data removed]",
      "text/plain": [
       "<Figure size 720x720 with 1 Axes>"
      ]
     },
     "metadata": {
      "needs_background": "light"
     },
     "output_type": "display_data"
    }
   ],
   "source": [
    "fig, ax = plt.subplots(figsize=(10, 10))\n",
    "sns.boxplot(x=\"hit\", y=\"chorus_hit\", data=train,ax=ax)"
   ]
  },
  {
   "cell_type": "code",
   "execution_count": 513,
   "metadata": {},
   "outputs": [
    {
     "data": {
      "text/plain": [
       "hit\n",
       "0.0    40.883971\n",
       "1.0    39.175063\n",
       "Name: chorus_hit, dtype: float64"
      ]
     },
     "execution_count": 513,
     "metadata": {},
     "output_type": "execute_result"
    }
   ],
   "source": [
    "train.groupby('hit')['chorus_hit'].mean()"
   ]
  },
  {
   "cell_type": "markdown",
   "metadata": {},
   "source": [
    "<div class=\"alert alert-block alert-info\">\n",
    "Hit songs on average have a smaller chorus_hit\n",
    "</div>"
   ]
  },
  {
   "cell_type": "code",
   "execution_count": 514,
   "metadata": {},
   "outputs": [],
   "source": [
    "# sections"
   ]
  },
  {
   "cell_type": "code",
   "execution_count": 515,
   "metadata": {},
   "outputs": [
    {
     "data": {
      "text/plain": [
       "79"
      ]
     },
     "execution_count": 515,
     "metadata": {},
     "output_type": "execute_result"
    }
   ],
   "source": [
    "train.sections.nunique()"
   ]
  },
  {
   "cell_type": "code",
   "execution_count": 516,
   "metadata": {},
   "outputs": [
    {
     "data": {
      "text/plain": [
       "<AxesSubplot:xlabel='sections'>"
      ]
     },
     "execution_count": 516,
     "metadata": {},
     "output_type": "execute_result"
    },
    {
     "data": {
      "image/png": "[encoded data removed]",
      "text/plain": [
       "<Figure size 432x288 with 1 Axes>"
      ]
     },
     "metadata": {
      "needs_background": "light"
     },
     "output_type": "display_data"
    }
   ],
   "source": [
    "pd.crosstab(train['sections'], train['hit']).plot(kind='bar', stacked=True)"
   ]
  },
  {
   "cell_type": "code",
   "execution_count": 517,
   "metadata": {},
   "outputs": [
    {
     "data": {
      "text/plain": [
       "<AxesSubplot:xlabel='hit', ylabel='sections'>"
      ]
     },
     "execution_count": 517,
     "metadata": {},
     "output_type": "execute_result"
    },
    {
     "data": {
      "image/png": "[encoded data removed]",
      "text/plain": [
       "<Figure size 720x720 with 1 Axes>"
      ]
     },
     "metadata": {
      "needs_background": "light"
     },
     "output_type": "display_data"
    }
   ],
   "source": [
    "fig, ax = plt.subplots(figsize=(10, 10))\n",
    "sns.boxplot(x=\"hit\", y=\"sections\", data=train,ax=ax)"
   ]
  },
  {
   "cell_type": "code",
   "execution_count": 518,
   "metadata": {},
   "outputs": [
    {
     "data": {
      "text/plain": [
       "hit\n",
       "0.0    10.771069\n",
       "1.0    10.158979\n",
       "Name: sections, dtype: float64"
      ]
     },
     "execution_count": 518,
     "metadata": {},
     "output_type": "execute_result"
    }
   ],
   "source": [
    "train.groupby('hit')['sections'].mean()"
   ]
  },
  {
   "cell_type": "markdown",
   "metadata": {},
   "source": [
    "<div class=\"alert alert-block alert-info\">\n",
    "It's better to take sections as a continuous numeric variable. Hit songs' sections have a more compact distribution where most of the value are between 0-75 sections, and hit songs have slightly lower number of sections.\n",
    "</div>"
   ]
  },
  {
   "cell_type": "code",
   "execution_count": 519,
   "metadata": {},
   "outputs": [],
   "source": [
    "# decade"
   ]
  },
  {
   "cell_type": "code",
   "execution_count": 520,
   "metadata": {},
   "outputs": [
    {
     "data": {
      "text/plain": [
       "60s    7062\n",
       "70s    6329\n",
       "80s    5601\n",
       "10s    5151\n",
       "00s    4793\n",
       "90s    4521\n",
       "Name: decade, dtype: int64"
      ]
     },
     "execution_count": 520,
     "metadata": {},
     "output_type": "execute_result"
    }
   ],
   "source": [
    "train.decade.value_counts()"
   ]
  },
  {
   "cell_type": "code",
   "execution_count": 521,
   "metadata": {},
   "outputs": [
    {
     "data": {
      "text/plain": [
       "<AxesSubplot:xlabel='decade'>"
      ]
     },
     "execution_count": 521,
     "metadata": {},
     "output_type": "execute_result"
    },
    {
     "data": {
      "image/png": "[encoded data removed]",
      "text/plain": [
       "<Figure size 432x288 with 1 Axes>"
      ]
     },
     "metadata": {
      "needs_background": "light"
     },
     "output_type": "display_data"
    }
   ],
   "source": [
    "pd.crosstab(train['decade'], train['hit']).plot(kind='bar', stacked=True)"
   ]
  },
  {
   "cell_type": "markdown",
   "metadata": {},
   "source": [
    "<div class=\"alert alert-block alert-info\">\n",
    "60s and 70s have higher percentage of hit songs.\n",
    "</div>"
   ]
  },
  {
   "cell_type": "markdown",
   "metadata": {},
   "source": [
    "# Feature Engineering"
   ]
  },
  {
   "cell_type": "code",
   "execution_count": 522,
   "metadata": {},
   "outputs": [],
   "source": [
    "y = train.hit\n",
    "X = train.loc[:, train.columns != 'hit']"
   ]
  },
  {
   "cell_type": "markdown",
   "metadata": {},
   "source": [
    "<div class=\"alert alert-block alert-info\">\n",
    "As mentioned above, I will remove track, artist and uri.\n",
    "</div>"
   ]
  },
  {
   "cell_type": "code",
   "execution_count": 523,
   "metadata": {},
   "outputs": [],
   "source": [
    "del X['id']\n",
    "del X['track']\n",
    "del X['artist']\n",
    "del X['uri']"
   ]
  },
  {
   "cell_type": "code",
   "execution_count": 524,
   "metadata": {},
   "outputs": [],
   "source": [
    "num_col = ['danceability','energy','loudness','speechiness',\n",
    "           'acousticness','instrumentalness','liveness','valence','tempo',\n",
    "           'duration_ms','chorus_hit','sections']"
   ]
  },
  {
   "cell_type": "code",
   "execution_count": 525,
   "metadata": {},
   "outputs": [],
   "source": [
    "cat_col = ['key','mode','time_signature','decade']\n",
    "for x in cat_col:\n",
    "    X[x] = X[x].astype('category')"
   ]
  },
  {
   "cell_type": "markdown",
   "metadata": {},
   "source": [
    "<div class=\"alert alert-block alert-info\">\n",
    "One-hot-encoding for categorical variable\n",
    "</div>"
   ]
  },
  {
   "cell_type": "code",
   "execution_count": 526,
   "metadata": {},
   "outputs": [
    {
     "data": {
      "text/html": [
       "<div>\n",
       "<style scoped>\n",
       "    .dataframe tbody tr th:only-of-type {\n",
       "        vertical-align: middle;\n",
       "    }\n",
       "\n",
       "    .dataframe tbody tr th {\n",
       "        vertical-align: top;\n",
       "    }\n",
       "\n",
       "    .dataframe thead th {\n",
       "        text-align: right;\n",
       "    }\n",
       "</style>\n",
       "<table border=\"1\" class=\"dataframe\">\n",
       "  <thead>\n",
       "    <tr style=\"text-align: right;\">\n",
       "      <th></th>\n",
       "      <th>key_0</th>\n",
       "      <th>key_1</th>\n",
       "      <th>key_2</th>\n",
       "      <th>key_3</th>\n",
       "      <th>key_4</th>\n",
       "      <th>key_5</th>\n",
       "      <th>key_6</th>\n",
       "      <th>key_7</th>\n",
       "      <th>key_8</th>\n",
       "      <th>key_9</th>\n",
       "      <th>key_10</th>\n",
       "      <th>key_11</th>\n",
       "      <th>mode_0</th>\n",
       "      <th>mode_1</th>\n",
       "      <th>time_signature_0</th>\n",
       "      <th>time_signature_1</th>\n",
       "      <th>time_signature_3</th>\n",
       "      <th>time_signature_4</th>\n",
       "      <th>time_signature_5</th>\n",
       "      <th>decade_00s</th>\n",
       "      <th>decade_10s</th>\n",
       "      <th>decade_60s</th>\n",
       "      <th>decade_70s</th>\n",
       "      <th>decade_80s</th>\n",
       "      <th>decade_90s</th>\n",
       "    </tr>\n",
       "  </thead>\n",
       "  <tbody>\n",
       "    <tr>\n",
       "      <th>0</th>\n",
       "      <td>1</td>\n",
       "      <td>0</td>\n",
       "      <td>0</td>\n",
       "      <td>0</td>\n",
       "      <td>0</td>\n",
       "      <td>0</td>\n",
       "      <td>0</td>\n",
       "      <td>0</td>\n",
       "      <td>0</td>\n",
       "      <td>0</td>\n",
       "      <td>0</td>\n",
       "      <td>0</td>\n",
       "      <td>0</td>\n",
       "      <td>1</td>\n",
       "      <td>0</td>\n",
       "      <td>0</td>\n",
       "      <td>1</td>\n",
       "      <td>0</td>\n",
       "      <td>0</td>\n",
       "      <td>0</td>\n",
       "      <td>0</td>\n",
       "      <td>1</td>\n",
       "      <td>0</td>\n",
       "      <td>0</td>\n",
       "      <td>0</td>\n",
       "    </tr>\n",
       "    <tr>\n",
       "      <th>1</th>\n",
       "      <td>0</td>\n",
       "      <td>0</td>\n",
       "      <td>1</td>\n",
       "      <td>0</td>\n",
       "      <td>0</td>\n",
       "      <td>0</td>\n",
       "      <td>0</td>\n",
       "      <td>0</td>\n",
       "      <td>0</td>\n",
       "      <td>0</td>\n",
       "      <td>0</td>\n",
       "      <td>0</td>\n",
       "      <td>0</td>\n",
       "      <td>1</td>\n",
       "      <td>0</td>\n",
       "      <td>0</td>\n",
       "      <td>0</td>\n",
       "      <td>1</td>\n",
       "      <td>0</td>\n",
       "      <td>0</td>\n",
       "      <td>0</td>\n",
       "      <td>1</td>\n",
       "      <td>0</td>\n",
       "      <td>0</td>\n",
       "      <td>0</td>\n",
       "    </tr>\n",
       "    <tr>\n",
       "      <th>2</th>\n",
       "      <td>0</td>\n",
       "      <td>1</td>\n",
       "      <td>0</td>\n",
       "      <td>0</td>\n",
       "      <td>0</td>\n",
       "      <td>0</td>\n",
       "      <td>0</td>\n",
       "      <td>0</td>\n",
       "      <td>0</td>\n",
       "      <td>0</td>\n",
       "      <td>0</td>\n",
       "      <td>0</td>\n",
       "      <td>0</td>\n",
       "      <td>1</td>\n",
       "      <td>0</td>\n",
       "      <td>0</td>\n",
       "      <td>0</td>\n",
       "      <td>1</td>\n",
       "      <td>0</td>\n",
       "      <td>0</td>\n",
       "      <td>0</td>\n",
       "      <td>1</td>\n",
       "      <td>0</td>\n",
       "      <td>0</td>\n",
       "      <td>0</td>\n",
       "    </tr>\n",
       "    <tr>\n",
       "      <th>3</th>\n",
       "      <td>0</td>\n",
       "      <td>0</td>\n",
       "      <td>0</td>\n",
       "      <td>0</td>\n",
       "      <td>0</td>\n",
       "      <td>0</td>\n",
       "      <td>0</td>\n",
       "      <td>1</td>\n",
       "      <td>0</td>\n",
       "      <td>0</td>\n",
       "      <td>0</td>\n",
       "      <td>0</td>\n",
       "      <td>0</td>\n",
       "      <td>1</td>\n",
       "      <td>0</td>\n",
       "      <td>0</td>\n",
       "      <td>1</td>\n",
       "      <td>0</td>\n",
       "      <td>0</td>\n",
       "      <td>0</td>\n",
       "      <td>0</td>\n",
       "      <td>1</td>\n",
       "      <td>0</td>\n",
       "      <td>0</td>\n",
       "      <td>0</td>\n",
       "    </tr>\n",
       "    <tr>\n",
       "      <th>4</th>\n",
       "      <td>0</td>\n",
       "      <td>0</td>\n",
       "      <td>0</td>\n",
       "      <td>1</td>\n",
       "      <td>0</td>\n",
       "      <td>0</td>\n",
       "      <td>0</td>\n",
       "      <td>0</td>\n",
       "      <td>0</td>\n",
       "      <td>0</td>\n",
       "      <td>0</td>\n",
       "      <td>0</td>\n",
       "      <td>0</td>\n",
       "      <td>1</td>\n",
       "      <td>0</td>\n",
       "      <td>0</td>\n",
       "      <td>1</td>\n",
       "      <td>0</td>\n",
       "      <td>0</td>\n",
       "      <td>0</td>\n",
       "      <td>0</td>\n",
       "      <td>1</td>\n",
       "      <td>0</td>\n",
       "      <td>0</td>\n",
       "      <td>0</td>\n",
       "    </tr>\n",
       "    <tr>\n",
       "      <th>...</th>\n",
       "      <td>...</td>\n",
       "      <td>...</td>\n",
       "      <td>...</td>\n",
       "      <td>...</td>\n",
       "      <td>...</td>\n",
       "      <td>...</td>\n",
       "      <td>...</td>\n",
       "      <td>...</td>\n",
       "      <td>...</td>\n",
       "      <td>...</td>\n",
       "      <td>...</td>\n",
       "      <td>...</td>\n",
       "      <td>...</td>\n",
       "      <td>...</td>\n",
       "      <td>...</td>\n",
       "      <td>...</td>\n",
       "      <td>...</td>\n",
       "      <td>...</td>\n",
       "      <td>...</td>\n",
       "      <td>...</td>\n",
       "      <td>...</td>\n",
       "      <td>...</td>\n",
       "      <td>...</td>\n",
       "      <td>...</td>\n",
       "      <td>...</td>\n",
       "    </tr>\n",
       "    <tr>\n",
       "      <th>33452</th>\n",
       "      <td>0</td>\n",
       "      <td>0</td>\n",
       "      <td>0</td>\n",
       "      <td>0</td>\n",
       "      <td>0</td>\n",
       "      <td>0</td>\n",
       "      <td>0</td>\n",
       "      <td>0</td>\n",
       "      <td>0</td>\n",
       "      <td>1</td>\n",
       "      <td>0</td>\n",
       "      <td>0</td>\n",
       "      <td>0</td>\n",
       "      <td>1</td>\n",
       "      <td>0</td>\n",
       "      <td>0</td>\n",
       "      <td>1</td>\n",
       "      <td>0</td>\n",
       "      <td>0</td>\n",
       "      <td>0</td>\n",
       "      <td>1</td>\n",
       "      <td>0</td>\n",
       "      <td>0</td>\n",
       "      <td>0</td>\n",
       "      <td>0</td>\n",
       "    </tr>\n",
       "    <tr>\n",
       "      <th>33453</th>\n",
       "      <td>0</td>\n",
       "      <td>1</td>\n",
       "      <td>0</td>\n",
       "      <td>0</td>\n",
       "      <td>0</td>\n",
       "      <td>0</td>\n",
       "      <td>0</td>\n",
       "      <td>0</td>\n",
       "      <td>0</td>\n",
       "      <td>0</td>\n",
       "      <td>0</td>\n",
       "      <td>0</td>\n",
       "      <td>1</td>\n",
       "      <td>0</td>\n",
       "      <td>0</td>\n",
       "      <td>0</td>\n",
       "      <td>0</td>\n",
       "      <td>1</td>\n",
       "      <td>0</td>\n",
       "      <td>0</td>\n",
       "      <td>1</td>\n",
       "      <td>0</td>\n",
       "      <td>0</td>\n",
       "      <td>0</td>\n",
       "      <td>0</td>\n",
       "    </tr>\n",
       "    <tr>\n",
       "      <th>33454</th>\n",
       "      <td>0</td>\n",
       "      <td>0</td>\n",
       "      <td>0</td>\n",
       "      <td>0</td>\n",
       "      <td>0</td>\n",
       "      <td>0</td>\n",
       "      <td>0</td>\n",
       "      <td>0</td>\n",
       "      <td>1</td>\n",
       "      <td>0</td>\n",
       "      <td>0</td>\n",
       "      <td>0</td>\n",
       "      <td>0</td>\n",
       "      <td>1</td>\n",
       "      <td>0</td>\n",
       "      <td>0</td>\n",
       "      <td>0</td>\n",
       "      <td>1</td>\n",
       "      <td>0</td>\n",
       "      <td>0</td>\n",
       "      <td>1</td>\n",
       "      <td>0</td>\n",
       "      <td>0</td>\n",
       "      <td>0</td>\n",
       "      <td>0</td>\n",
       "    </tr>\n",
       "    <tr>\n",
       "      <th>33455</th>\n",
       "      <td>1</td>\n",
       "      <td>0</td>\n",
       "      <td>0</td>\n",
       "      <td>0</td>\n",
       "      <td>0</td>\n",
       "      <td>0</td>\n",
       "      <td>0</td>\n",
       "      <td>0</td>\n",
       "      <td>0</td>\n",
       "      <td>0</td>\n",
       "      <td>0</td>\n",
       "      <td>0</td>\n",
       "      <td>0</td>\n",
       "      <td>1</td>\n",
       "      <td>0</td>\n",
       "      <td>0</td>\n",
       "      <td>0</td>\n",
       "      <td>1</td>\n",
       "      <td>0</td>\n",
       "      <td>0</td>\n",
       "      <td>1</td>\n",
       "      <td>0</td>\n",
       "      <td>0</td>\n",
       "      <td>0</td>\n",
       "      <td>0</td>\n",
       "    </tr>\n",
       "    <tr>\n",
       "      <th>33456</th>\n",
       "      <td>0</td>\n",
       "      <td>0</td>\n",
       "      <td>0</td>\n",
       "      <td>0</td>\n",
       "      <td>0</td>\n",
       "      <td>0</td>\n",
       "      <td>0</td>\n",
       "      <td>0</td>\n",
       "      <td>0</td>\n",
       "      <td>0</td>\n",
       "      <td>1</td>\n",
       "      <td>0</td>\n",
       "      <td>0</td>\n",
       "      <td>1</td>\n",
       "      <td>0</td>\n",
       "      <td>0</td>\n",
       "      <td>0</td>\n",
       "      <td>1</td>\n",
       "      <td>0</td>\n",
       "      <td>0</td>\n",
       "      <td>1</td>\n",
       "      <td>0</td>\n",
       "      <td>0</td>\n",
       "      <td>0</td>\n",
       "      <td>0</td>\n",
       "    </tr>\n",
       "  </tbody>\n",
       "</table>\n",
       "<p>33457 rows × 25 columns</p>\n",
       "</div>"
      ],
      "text/plain": [
       "       key_0  key_1  key_2  key_3  key_4  key_5  key_6  key_7  key_8  key_9  \\\n",
       "0          1      0      0      0      0      0      0      0      0      0   \n",
       "1          0      0      1      0      0      0      0      0      0      0   \n",
       "2          0      1      0      0      0      0      0      0      0      0   \n",
       "3          0      0      0      0      0      0      0      1      0      0   \n",
       "4          0      0      0      1      0      0      0      0      0      0   \n",
       "...      ...    ...    ...    ...    ...    ...    ...    ...    ...    ...   \n",
       "33452      0      0      0      0      0      0      0      0      0      1   \n",
       "33453      0      1      0      0      0      0      0      0      0      0   \n",
       "33454      0      0      0      0      0      0      0      0      1      0   \n",
       "33455      1      0      0      0      0      0      0      0      0      0   \n",
       "33456      0      0      0      0      0      0      0      0      0      0   \n",
       "\n",
       "       key_10  key_11  mode_0  mode_1  time_signature_0  time_signature_1  \\\n",
       "0           0       0       0       1                 0                 0   \n",
       "1           0       0       0       1                 0                 0   \n",
       "2           0       0       0       1                 0                 0   \n",
       "3           0       0       0       1                 0                 0   \n",
       "4           0       0       0       1                 0                 0   \n",
       "...       ...     ...     ...     ...               ...               ...   \n",
       "33452       0       0       0       1                 0                 0   \n",
       "33453       0       0       1       0                 0                 0   \n",
       "33454       0       0       0       1                 0                 0   \n",
       "33455       0       0       0       1                 0                 0   \n",
       "33456       1       0       0       1                 0                 0   \n",
       "\n",
       "       time_signature_3  time_signature_4  time_signature_5  decade_00s  \\\n",
       "0                     1                 0                 0           0   \n",
       "1                     0                 1                 0           0   \n",
       "2                     0                 1                 0           0   \n",
       "3                     1                 0                 0           0   \n",
       "4                     1                 0                 0           0   \n",
       "...                 ...               ...               ...         ...   \n",
       "33452                 1                 0                 0           0   \n",
       "33453                 0                 1                 0           0   \n",
       "33454                 0                 1                 0           0   \n",
       "33455                 0                 1                 0           0   \n",
       "33456                 0                 1                 0           0   \n",
       "\n",
       "       decade_10s  decade_60s  decade_70s  decade_80s  decade_90s  \n",
       "0               0           1           0           0           0  \n",
       "1               0           1           0           0           0  \n",
       "2               0           1           0           0           0  \n",
       "3               0           1           0           0           0  \n",
       "4               0           1           0           0           0  \n",
       "...           ...         ...         ...         ...         ...  \n",
       "33452           1           0           0           0           0  \n",
       "33453           1           0           0           0           0  \n",
       "33454           1           0           0           0           0  \n",
       "33455           1           0           0           0           0  \n",
       "33456           1           0           0           0           0  \n",
       "\n",
       "[33457 rows x 25 columns]"
      ]
     },
     "execution_count": 526,
     "metadata": {},
     "output_type": "execute_result"
    }
   ],
   "source": [
    "pd.get_dummies(X[cat_col])"
   ]
  },
  {
   "cell_type": "code",
   "execution_count": 527,
   "metadata": {},
   "outputs": [],
   "source": [
    "X_encoded = pd.concat([pd.get_dummies(X[cat_col]), X[num_col]], axis=1)"
   ]
  },
  {
   "cell_type": "markdown",
   "metadata": {},
   "source": [
    "# Feature Selection"
   ]
  },
  {
   "cell_type": "code",
   "execution_count": 528,
   "metadata": {},
   "outputs": [
    {
     "data": {
      "text/plain": [
       "0.4119992173360074"
      ]
     },
     "execution_count": 528,
     "metadata": {},
     "output_type": "execute_result"
    }
   ],
   "source": [
    "train[train.hit == 1].shape[0]/df.shape[0] #40/60"
   ]
  },
  {
   "cell_type": "markdown",
   "metadata": {},
   "source": [
    "<div class=\"alert alert-block alert-info\">\n",
    "In this sample, hit is around 40% of the entire population, therefore I will be using 40/60 as the class_weight going forward.\n",
    "</div>"
   ]
  },
  {
   "cell_type": "markdown",
   "metadata": {},
   "source": [
    "<div class=\"alert alert-block alert-info\">\n",
    "Following I will use Boruta as my feature selection method. \n",
    "</div>\n",
    "\n",
    "Boruta method is based on two idea:\n",
    "- In Boruta, features do not compete among themselves. They compete with a randomized version of them.\n",
    "- The threshold is defined as the highest feature importance recorded among the shadow features. A feature is useful only if it’s capable of doing better than the best randomized feature."
   ]
  },
  {
   "cell_type": "code",
   "execution_count": 529,
   "metadata": {},
   "outputs": [],
   "source": [
    "# Boruta"
   ]
  },
  {
   "cell_type": "code",
   "execution_count": 530,
   "metadata": {},
   "outputs": [],
   "source": [
    "from boruta import BorutaPy\n",
    "from sklearn.ensemble import RandomForestClassifier\n",
    "import numpy as np"
   ]
  },
  {
   "cell_type": "code",
   "execution_count": 531,
   "metadata": {},
   "outputs": [
    {
     "name": "stdout",
     "output_type": "stream",
     "text": [
      "features selected: ['mode_0', 'mode_1', 'time_signature_3', 'time_signature_4', 'decade_00s', 'decade_10s', 'decade_60s', 'decade_90s', 'danceability', 'energy', 'loudness', 'speechiness', 'acousticness', 'instrumentalness', 'liveness', 'valence', 'tempo', 'duration_ms', 'chorus_hit', 'sections']\n",
      "features in consideration: []\n"
     ]
    }
   ],
   "source": [
    "### initialize Boruta\n",
    "forest = RandomForestClassifier(\n",
    "    n_jobs = -1, \n",
    "    max_depth = 5,\n",
    "    n_estimators=1000,\n",
    "    criterion='entropy',\n",
    "    class_weight={1:0.4,0:0.6},\n",
    "    random_state=42)\n",
    "\n",
    "boruta = BorutaPy(\n",
    "   estimator = forest, \n",
    "   n_estimators = 'auto',\n",
    "   max_iter = 100 # number of trials to perform\n",
    ")\n",
    "\n",
    "### fit Boruta (it accepts np.array, not pd.DataFrame)\n",
    "boruta.fit(np.array(X_encoded), np.array(y))\n",
    "    \n",
    "### print results\n",
    "selected_features = X_encoded.columns[boruta.support_].to_list()\n",
    "tbd_features = X_encoded.columns[boruta.support_weak_].to_list()\n",
    "print('features selected:', selected_features)\n",
    "print('features in consideration:', tbd_features)"
   ]
  },
  {
   "cell_type": "code",
   "execution_count": 532,
   "metadata": {},
   "outputs": [
    {
     "data": {
      "text/plain": [
       "{'decade_70s',\n",
       " 'decade_80s',\n",
       " 'key_0',\n",
       " 'key_1',\n",
       " 'key_10',\n",
       " 'key_11',\n",
       " 'key_2',\n",
       " 'key_3',\n",
       " 'key_4',\n",
       " 'key_5',\n",
       " 'key_6',\n",
       " 'key_7',\n",
       " 'key_8',\n",
       " 'key_9',\n",
       " 'time_signature_0',\n",
       " 'time_signature_1',\n",
       " 'time_signature_5'}"
      ]
     },
     "execution_count": 532,
     "metadata": {},
     "output_type": "execute_result"
    }
   ],
   "source": [
    "set(X_encoded.columns) - set(selected_features) "
   ]
  },
  {
   "cell_type": "markdown",
   "metadata": {},
   "source": [
    "<div class=\"alert alert-block alert-info\">\n",
    "I will remove above features as they are not informative.\n",
    "</div>"
   ]
  },
  {
   "cell_type": "code",
   "execution_count": 533,
   "metadata": {},
   "outputs": [],
   "source": [
    "X_encoded = X_encoded[selected_features]"
   ]
  },
  {
   "cell_type": "markdown",
   "metadata": {},
   "source": [
    "# XGBOOST"
   ]
  },
  {
   "cell_type": "code",
   "execution_count": 534,
   "metadata": {},
   "outputs": [],
   "source": [
    "# conda install -c anaconda py-xgboost\n",
    "import xgboost as xgb\n",
    "from sklearn.model_selection import train_test_split\n",
    "from sklearn.metrics import balanced_accuracy_score, roc_auc_score, make_scorer\n",
    "from sklearn.model_selection import GridSearchCV\n",
    "from sklearn.metrics import confusion_matrix\n",
    "from sklearn.metrics import plot_confusion_matrix"
   ]
  },
  {
   "cell_type": "code",
   "execution_count": 535,
   "metadata": {},
   "outputs": [],
   "source": [
    "X_train, X_test, y_train, y_test = train_test_split(X_encoded, y, random_state=42, stratify=y)"
   ]
  },
  {
   "cell_type": "code",
   "execution_count": 536,
   "metadata": {},
   "outputs": [],
   "source": [
    "# define a timer to keep track on training time\n",
    "def timer(start_time=None):\n",
    "    if not start_time:\n",
    "        start_time = datetime.now()\n",
    "        return start_time\n",
    "    elif start_time:\n",
    "        thour, temp_sec = divmod((datetime.now()-start_time).total_seconds(), 3600)\n",
    "        tmin,tsec = divmod(temp_sec, 60)\n",
    "        print('\\n Time taken: %i hours %i minutes and %s seconds.' % (thour, tmin, round(tsec,2)))"
   ]
  },
  {
   "cell_type": "code",
   "execution_count": 537,
   "metadata": {},
   "outputs": [],
   "source": [
    "# defining a generic Function to give ROC_AUC Scores in table format for better readability\n",
    "from sklearn.model_selection import cross_val_score\n",
    "def crossvalscore(model):\n",
    "    scores = cross_val_score(model,X_encoded,y,cv=5,scoring='roc_auc',n_jobs=-1) \n",
    "    acc = cross_val_score(model,X_encoded,y,cv=5,scoring='accuracy',n_jobs=-1)\n",
    "    rand_scores = pd.DataFrame({\n",
    "    'cv':range(1,6),\n",
    "    'roc_auc score':scores,\n",
    "    'accuracy score':acc\n",
    "    })\n",
    "    print('AUC :',rand_scores['roc_auc score'].mean())\n",
    "    print('accuracy :',rand_scores['accuracy score'].mean())\n",
    "    return rand_scores.sort_values(by='roc_auc score',ascending=False)"
   ]
  },
  {
   "cell_type": "markdown",
   "metadata": {},
   "source": [
    "<div class=\"alert alert-block alert-info\">\n",
    "Build preliminary XGB\n",
    "</div>"
   ]
  },
  {
   "cell_type": "code",
   "execution_count": 538,
   "metadata": {},
   "outputs": [],
   "source": [
    "### initialize XGB\n",
    "clf_xgb = xgb.XGBClassifier(objective='binary:logistic', \n",
    "                            missing=None, \n",
    "                            seed=42,\n",
    "                            eval_metric='aucpr')"
   ]
  },
  {
   "cell_type": "code",
   "execution_count": 539,
   "metadata": {},
   "outputs": [
    {
     "name": "stdout",
     "output_type": "stream",
     "text": [
      "[0]\tvalidation_0-aucpr:0.77703\n",
      "[3]\tvalidation_0-aucpr:0.81777\n",
      "[6]\tvalidation_0-aucpr:0.83135\n",
      "[9]\tvalidation_0-aucpr:0.84171\n",
      "[12]\tvalidation_0-aucpr:0.84283\n",
      "[15]\tvalidation_0-aucpr:0.84432\n",
      "[18]\tvalidation_0-aucpr:0.84627\n",
      "[21]\tvalidation_0-aucpr:0.84743\n",
      "[24]\tvalidation_0-aucpr:0.84948\n",
      "[27]\tvalidation_0-aucpr:0.84909\n",
      "[30]\tvalidation_0-aucpr:0.85070\n",
      "[33]\tvalidation_0-aucpr:0.85045\n",
      "[36]\tvalidation_0-aucpr:0.84994\n",
      "[39]\tvalidation_0-aucpr:0.84961\n",
      "[41]\tvalidation_0-aucpr:0.84947\n"
     ]
    },
    {
     "data": {
      "text/plain": [
       "XGBClassifier(base_score=0.5, booster='gbtree', colsample_bylevel=1,\n",
       "              colsample_bynode=1, colsample_bytree=1, eval_metric='aucpr',\n",
       "              gamma=0, gpu_id=-1, importance_type='gain',\n",
       "              interaction_constraints='', learning_rate=0.300000012,\n",
       "              max_delta_step=0, max_depth=6, min_child_weight=1, missing=None,\n",
       "              monotone_constraints='()', n_estimators=100, n_jobs=16,\n",
       "              num_parallel_tree=1, random_state=42, reg_alpha=0, reg_lambda=1,\n",
       "              scale_pos_weight=1, seed=42, subsample=1, tree_method='exact',\n",
       "              validate_parameters=1, verbosity=None)"
      ]
     },
     "execution_count": 539,
     "metadata": {},
     "output_type": "execute_result"
    }
   ],
   "source": [
    "### fit XGB\n",
    "clf_xgb.fit(X_train,\n",
    "            y_train,\n",
    "            early_stopping_rounds=10,\n",
    "            eval_metric='aucpr',\n",
    "            verbose=3,\n",
    "            eval_set=[(X_test, y_test)])"
   ]
  },
  {
   "cell_type": "code",
   "execution_count": 540,
   "metadata": {
    "scrolled": true
   },
   "outputs": [
    {
     "name": "stdout",
     "output_type": "stream",
     "text": [
      "AUC : 0.8500576333181062\n",
      "accuracy : 0.7673755585895105\n"
     ]
    },
    {
     "data": {
      "text/html": [
       "<div>\n",
       "<style scoped>\n",
       "    .dataframe tbody tr th:only-of-type {\n",
       "        vertical-align: middle;\n",
       "    }\n",
       "\n",
       "    .dataframe tbody tr th {\n",
       "        vertical-align: top;\n",
       "    }\n",
       "\n",
       "    .dataframe thead th {\n",
       "        text-align: right;\n",
       "    }\n",
       "</style>\n",
       "<table border=\"1\" class=\"dataframe\">\n",
       "  <thead>\n",
       "    <tr style=\"text-align: right;\">\n",
       "      <th></th>\n",
       "      <th>cv</th>\n",
       "      <th>roc_auc score</th>\n",
       "      <th>accuracy score</th>\n",
       "    </tr>\n",
       "  </thead>\n",
       "  <tbody>\n",
       "    <tr>\n",
       "      <th>3</th>\n",
       "      <td>4</td>\n",
       "      <td>0.906069</td>\n",
       "      <td>0.831565</td>\n",
       "    </tr>\n",
       "    <tr>\n",
       "      <th>4</th>\n",
       "      <td>5</td>\n",
       "      <td>0.855175</td>\n",
       "      <td>0.784636</td>\n",
       "    </tr>\n",
       "    <tr>\n",
       "      <th>2</th>\n",
       "      <td>3</td>\n",
       "      <td>0.847343</td>\n",
       "      <td>0.769990</td>\n",
       "    </tr>\n",
       "    <tr>\n",
       "      <th>1</th>\n",
       "      <td>2</td>\n",
       "      <td>0.833918</td>\n",
       "      <td>0.714883</td>\n",
       "    </tr>\n",
       "    <tr>\n",
       "      <th>0</th>\n",
       "      <td>1</td>\n",
       "      <td>0.807783</td>\n",
       "      <td>0.735804</td>\n",
       "    </tr>\n",
       "  </tbody>\n",
       "</table>\n",
       "</div>"
      ],
      "text/plain": [
       "   cv  roc_auc score  accuracy score\n",
       "3   4       0.906069        0.831565\n",
       "4   5       0.855175        0.784636\n",
       "2   3       0.847343        0.769990\n",
       "1   2       0.833918        0.714883\n",
       "0   1       0.807783        0.735804"
      ]
     },
     "execution_count": 540,
     "metadata": {},
     "output_type": "execute_result"
    }
   ],
   "source": [
    "crossvalscore(clf_xgb)"
   ]
  },
  {
   "cell_type": "markdown",
   "metadata": {},
   "source": [
    "<div class=\"alert alert-block alert-info\">\n",
    "Optimize XGB by tuning hyperparameter\n",
    "</div>"
   ]
  },
  {
   "cell_type": "code",
   "execution_count": 541,
   "metadata": {},
   "outputs": [],
   "source": [
    "### Hyperparameter Optimization for Xgboost with RandomizedSearchCV\n",
    "param_grid_3 = {\n",
    "    'max_depth':[25], \n",
    "    'learning_rate':[0.095], \n",
    "    'gamma':[5], \n",
    "    'reg_lambda':[72], \n",
    "    'scale_pos_weight':[1]} "
   ]
  },
  {
   "cell_type": "code",
   "execution_count": 542,
   "metadata": {},
   "outputs": [],
   "source": [
    "from sklearn.model_selection import RandomizedSearchCV\n",
    "random_search = RandomizedSearchCV(clf_xgb, \n",
    "                                  param_distributions=param_grid_3, \n",
    "                                   n_iter=5, \n",
    "                                   scoring='roc_auc',\n",
    "                                   n_jobs=-1, \n",
    "                                   cv=5,\n",
    "                                   verbose=3)"
   ]
  },
  {
   "cell_type": "code",
   "execution_count": 543,
   "metadata": {},
   "outputs": [
    {
     "name": "stdout",
     "output_type": "stream",
     "text": [
      "Fitting 5 folds for each of 1 candidates, totalling 5 fits\n"
     ]
    },
    {
     "name": "stderr",
     "output_type": "stream",
     "text": [
      "[Parallel(n_jobs=-1)]: Using backend LokyBackend with 16 concurrent workers.\n",
      "[Parallel(n_jobs=-1)]: Done   2 out of   5 | elapsed:   13.0s remaining:   19.5s\n",
      "[Parallel(n_jobs=-1)]: Done   5 out of   5 | elapsed:   13.2s finished\n"
     ]
    },
    {
     "name": "stdout",
     "output_type": "stream",
     "text": [
      "\n",
      " Time taken: 0 hours 0 minutes and 18.19 seconds.\n"
     ]
    }
   ],
   "source": [
    "from datetime import datetime\n",
    "start_time = timer(None)\n",
    "random_search.fit(X_encoded,y)\n",
    "timer(start_time)"
   ]
  },
  {
   "cell_type": "code",
   "execution_count": 544,
   "metadata": {},
   "outputs": [
    {
     "data": {
      "text/plain": [
       "XGBClassifier(base_score=0.5, booster='gbtree', colsample_bylevel=1,\n",
       "              colsample_bynode=1, colsample_bytree=1, eval_metric='aucpr',\n",
       "              gamma=5, gpu_id=-1, importance_type='gain',\n",
       "              interaction_constraints='', learning_rate=0.095, max_delta_step=0,\n",
       "              max_depth=25, min_child_weight=1, missing=None,\n",
       "              monotone_constraints='()', n_estimators=100, n_jobs=16,\n",
       "              num_parallel_tree=1, random_state=42, reg_alpha=0, reg_lambda=72,\n",
       "              scale_pos_weight=1, seed=42, subsample=1, tree_method='exact',\n",
       "              validate_parameters=1, verbosity=None)"
      ]
     },
     "execution_count": 544,
     "metadata": {},
     "output_type": "execute_result"
    }
   ],
   "source": [
    "### output optimized parameters\n",
    "random_search.best_estimator_"
   ]
  },
  {
   "cell_type": "code",
   "execution_count": 545,
   "metadata": {},
   "outputs": [],
   "source": [
    "### initialize and fit the model with optimized parameters\n",
    "clf_xgb_optimized = xgb.XGBClassifier(seed=42,\n",
    "                                      objective='binary:logistic', \n",
    "                                      max_depth=25,\n",
    "                                      gamma=5,\n",
    "                                      learning_rate=0.095,\n",
    "                                      reg_lambda=72,\n",
    "                                      scale_pos_weight=1)"
   ]
  },
  {
   "cell_type": "code",
   "execution_count": 546,
   "metadata": {},
   "outputs": [
    {
     "name": "stdout",
     "output_type": "stream",
     "text": [
      "[0]\tvalidation_0-aucpr:0.78188\n",
      "[1]\tvalidation_0-aucpr:0.78880\n",
      "[2]\tvalidation_0-aucpr:0.79393\n",
      "[3]\tvalidation_0-aucpr:0.79731\n",
      "[4]\tvalidation_0-aucpr:0.80143\n",
      "[5]\tvalidation_0-aucpr:0.80617\n",
      "[6]\tvalidation_0-aucpr:0.80940\n",
      "[7]\tvalidation_0-aucpr:0.81174\n",
      "[8]\tvalidation_0-aucpr:0.81844\n",
      "[9]\tvalidation_0-aucpr:0.81984\n",
      "[10]\tvalidation_0-aucpr:0.82063\n",
      "[11]\tvalidation_0-aucpr:0.82258\n",
      "[12]\tvalidation_0-aucpr:0.83089\n",
      "[13]\tvalidation_0-aucpr:0.83150\n",
      "[14]\tvalidation_0-aucpr:0.83350\n",
      "[15]\tvalidation_0-aucpr:0.83578\n",
      "[16]\tvalidation_0-aucpr:0.83579\n",
      "[17]\tvalidation_0-aucpr:0.83709\n",
      "[18]\tvalidation_0-aucpr:0.83746\n",
      "[19]\tvalidation_0-aucpr:0.83857\n",
      "[20]\tvalidation_0-aucpr:0.84137\n",
      "[21]\tvalidation_0-aucpr:0.84214\n",
      "[22]\tvalidation_0-aucpr:0.84343\n",
      "[23]\tvalidation_0-aucpr:0.84537\n",
      "[24]\tvalidation_0-aucpr:0.84648\n",
      "[25]\tvalidation_0-aucpr:0.84676\n",
      "[26]\tvalidation_0-aucpr:0.84748\n",
      "[27]\tvalidation_0-aucpr:0.84830\n",
      "[28]\tvalidation_0-aucpr:0.84922\n",
      "[29]\tvalidation_0-aucpr:0.84977\n",
      "[30]\tvalidation_0-aucpr:0.85142\n",
      "[31]\tvalidation_0-aucpr:0.85170\n",
      "[32]\tvalidation_0-aucpr:0.85219\n",
      "[33]\tvalidation_0-aucpr:0.85266\n",
      "[34]\tvalidation_0-aucpr:0.85318\n",
      "[35]\tvalidation_0-aucpr:0.85347\n",
      "[36]\tvalidation_0-aucpr:0.85358\n",
      "[37]\tvalidation_0-aucpr:0.85419\n",
      "[38]\tvalidation_0-aucpr:0.85430\n",
      "[39]\tvalidation_0-aucpr:0.85491\n",
      "[40]\tvalidation_0-aucpr:0.85501\n",
      "[41]\tvalidation_0-aucpr:0.85494\n",
      "[42]\tvalidation_0-aucpr:0.85545\n",
      "[43]\tvalidation_0-aucpr:0.85574\n",
      "[44]\tvalidation_0-aucpr:0.85606\n",
      "[45]\tvalidation_0-aucpr:0.85661\n",
      "[46]\tvalidation_0-aucpr:0.85675\n",
      "[47]\tvalidation_0-aucpr:0.85684\n",
      "[48]\tvalidation_0-aucpr:0.85716\n",
      "[49]\tvalidation_0-aucpr:0.85726\n",
      "[50]\tvalidation_0-aucpr:0.85765\n",
      "[51]\tvalidation_0-aucpr:0.85741\n",
      "[52]\tvalidation_0-aucpr:0.85749\n",
      "[53]\tvalidation_0-aucpr:0.85761\n",
      "[54]\tvalidation_0-aucpr:0.85769\n",
      "[55]\tvalidation_0-aucpr:0.85830\n",
      "[56]\tvalidation_0-aucpr:0.85872\n",
      "[57]\tvalidation_0-aucpr:0.85869\n",
      "[58]\tvalidation_0-aucpr:0.85867\n",
      "[59]\tvalidation_0-aucpr:0.85863\n",
      "[60]\tvalidation_0-aucpr:0.85898\n",
      "[61]\tvalidation_0-aucpr:0.85903\n",
      "[62]\tvalidation_0-aucpr:0.85891\n",
      "[63]\tvalidation_0-aucpr:0.85903\n",
      "[64]\tvalidation_0-aucpr:0.85913\n",
      "[65]\tvalidation_0-aucpr:0.85905\n",
      "[66]\tvalidation_0-aucpr:0.85896\n",
      "[67]\tvalidation_0-aucpr:0.85921\n",
      "[68]\tvalidation_0-aucpr:0.85931\n",
      "[69]\tvalidation_0-aucpr:0.85968\n",
      "[70]\tvalidation_0-aucpr:0.85974\n",
      "[71]\tvalidation_0-aucpr:0.85964\n",
      "[72]\tvalidation_0-aucpr:0.85964\n",
      "[73]\tvalidation_0-aucpr:0.86004\n",
      "[74]\tvalidation_0-aucpr:0.86011\n",
      "[75]\tvalidation_0-aucpr:0.86022\n",
      "[76]\tvalidation_0-aucpr:0.86037\n",
      "[77]\tvalidation_0-aucpr:0.86058\n",
      "[78]\tvalidation_0-aucpr:0.86084\n",
      "[79]\tvalidation_0-aucpr:0.86077\n",
      "[80]\tvalidation_0-aucpr:0.86096\n",
      "[81]\tvalidation_0-aucpr:0.86121\n",
      "[82]\tvalidation_0-aucpr:0.86123\n",
      "[83]\tvalidation_0-aucpr:0.86142\n",
      "[84]\tvalidation_0-aucpr:0.86141\n",
      "[85]\tvalidation_0-aucpr:0.86149\n",
      "[86]\tvalidation_0-aucpr:0.86151\n",
      "[87]\tvalidation_0-aucpr:0.86156\n",
      "[88]\tvalidation_0-aucpr:0.86141\n",
      "[89]\tvalidation_0-aucpr:0.86153\n",
      "[90]\tvalidation_0-aucpr:0.86176\n",
      "[91]\tvalidation_0-aucpr:0.86208\n",
      "[92]\tvalidation_0-aucpr:0.86205\n",
      "[93]\tvalidation_0-aucpr:0.86222\n",
      "[94]\tvalidation_0-aucpr:0.86239\n",
      "[95]\tvalidation_0-aucpr:0.86243\n",
      "[96]\tvalidation_0-aucpr:0.86266\n",
      "[97]\tvalidation_0-aucpr:0.86262\n",
      "[98]\tvalidation_0-aucpr:0.86256\n",
      "[99]\tvalidation_0-aucpr:0.86260\n"
     ]
    },
    {
     "data": {
      "text/plain": [
       "XGBClassifier(base_score=0.5, booster='gbtree', colsample_bylevel=1,\n",
       "              colsample_bynode=1, colsample_bytree=1, gamma=5, gpu_id=-1,\n",
       "              importance_type='gain', interaction_constraints='',\n",
       "              learning_rate=0.095, max_delta_step=0, max_depth=25,\n",
       "              min_child_weight=1, missing=nan, monotone_constraints='()',\n",
       "              n_estimators=100, n_jobs=16, num_parallel_tree=1, random_state=42,\n",
       "              reg_alpha=0, reg_lambda=72, scale_pos_weight=1, seed=42,\n",
       "              subsample=1, tree_method='exact', validate_parameters=1,\n",
       "              verbosity=None)"
      ]
     },
     "execution_count": 546,
     "metadata": {},
     "output_type": "execute_result"
    }
   ],
   "source": [
    "clf_xgb_optimized.fit(X_train,\n",
    "                     y_train,\n",
    "                     early_stopping_rounds=10,\n",
    "                     eval_metric='aucpr',\n",
    "                     eval_set=[(X_test, y_test)])"
   ]
  },
  {
   "cell_type": "code",
   "execution_count": 547,
   "metadata": {},
   "outputs": [
    {
     "name": "stdout",
     "output_type": "stream",
     "text": [
      "AUC : 0.8577090814444148\n",
      "accuracy : 0.7696178985555086\n"
     ]
    },
    {
     "data": {
      "text/html": [
       "<div>\n",
       "<style scoped>\n",
       "    .dataframe tbody tr th:only-of-type {\n",
       "        vertical-align: middle;\n",
       "    }\n",
       "\n",
       "    .dataframe tbody tr th {\n",
       "        vertical-align: top;\n",
       "    }\n",
       "\n",
       "    .dataframe thead th {\n",
       "        text-align: right;\n",
       "    }\n",
       "</style>\n",
       "<table border=\"1\" class=\"dataframe\">\n",
       "  <thead>\n",
       "    <tr style=\"text-align: right;\">\n",
       "      <th></th>\n",
       "      <th>cv</th>\n",
       "      <th>roc_auc score</th>\n",
       "      <th>accuracy score</th>\n",
       "    </tr>\n",
       "  </thead>\n",
       "  <tbody>\n",
       "    <tr>\n",
       "      <th>3</th>\n",
       "      <td>4</td>\n",
       "      <td>0.905883</td>\n",
       "      <td>0.835451</td>\n",
       "    </tr>\n",
       "    <tr>\n",
       "      <th>4</th>\n",
       "      <td>5</td>\n",
       "      <td>0.872898</td>\n",
       "      <td>0.799880</td>\n",
       "    </tr>\n",
       "    <tr>\n",
       "      <th>2</th>\n",
       "      <td>3</td>\n",
       "      <td>0.862594</td>\n",
       "      <td>0.779555</td>\n",
       "    </tr>\n",
       "    <tr>\n",
       "      <th>1</th>\n",
       "      <td>2</td>\n",
       "      <td>0.830872</td>\n",
       "      <td>0.696653</td>\n",
       "    </tr>\n",
       "    <tr>\n",
       "      <th>0</th>\n",
       "      <td>1</td>\n",
       "      <td>0.816298</td>\n",
       "      <td>0.736551</td>\n",
       "    </tr>\n",
       "  </tbody>\n",
       "</table>\n",
       "</div>"
      ],
      "text/plain": [
       "   cv  roc_auc score  accuracy score\n",
       "3   4       0.905883        0.835451\n",
       "4   5       0.872898        0.799880\n",
       "2   3       0.862594        0.779555\n",
       "1   2       0.830872        0.696653\n",
       "0   1       0.816298        0.736551"
      ]
     },
     "execution_count": 547,
     "metadata": {},
     "output_type": "execute_result"
    }
   ],
   "source": [
    "crossvalscore(clf_xgb_optimized)"
   ]
  },
  {
   "cell_type": "markdown",
   "metadata": {},
   "source": [
    "<div class=\"alert alert-block alert-info\">\n",
    "Plot feature importance from optimized XGB\n",
    "</div>"
   ]
  },
  {
   "cell_type": "code",
   "execution_count": 548,
   "metadata": {},
   "outputs": [
    {
     "data": {
      "text/plain": [
       "<AxesSubplot:title={'center':'Feature importance'}, xlabel='F score', ylabel='Features'>"
      ]
     },
     "execution_count": 548,
     "metadata": {},
     "output_type": "execute_result"
    },
    {
     "data": {
      "image/png": "[encoded data removed]",
      "text/plain": [
       "<Figure size 432x288 with 1 Axes>"
      ]
     },
     "metadata": {
      "needs_background": "light"
     },
     "output_type": "display_data"
    }
   ],
   "source": [
    "# Cover. The number of times a feature is used to split the data across all \n",
    "# trees weighted by the number of training data points that go through those \n",
    "# splits.\n",
    "xgb.plot_importance(clf_xgb_optimized, importance_type=\"cover\")"
   ]
  },
  {
   "cell_type": "code",
   "execution_count": 549,
   "metadata": {},
   "outputs": [
    {
     "data": {
      "text/plain": [
       "<AxesSubplot:title={'center':'Feature importance'}, xlabel='F score', ylabel='Features'>"
      ]
     },
     "execution_count": 549,
     "metadata": {},
     "output_type": "execute_result"
    },
    {
     "data": {
      "image/png": "[encoded data removed]",
      "text/plain": [
       "<Figure size 432x288 with 1 Axes>"
      ]
     },
     "metadata": {
      "needs_background": "light"
     },
     "output_type": "display_data"
    }
   ],
   "source": [
    "# Gain. The average training loss reduction gained when using a feature for \n",
    "# splitting.\n",
    "xgb.plot_importance(clf_xgb_optimized, importance_type=\"gain\")"
   ]
  },
  {
   "cell_type": "code",
   "execution_count": 550,
   "metadata": {},
   "outputs": [
    {
     "data": {
      "text/plain": [
       "<AxesSubplot:title={'center':'Feature importance'}, xlabel='F score', ylabel='Features'>"
      ]
     },
     "execution_count": 550,
     "metadata": {},
     "output_type": "execute_result"
    },
    {
     "data": {
      "image/png": "[encoded data removed]",
      "text/plain": [
       "<Figure size 432x288 with 1 Axes>"
      ]
     },
     "metadata": {
      "needs_background": "light"
     },
     "output_type": "display_data"
    }
   ],
   "source": [
    "# Weight. The number of times a feature is used to split the \n",
    "# data across al trees\n",
    "xgb.plot_importance(clf_xgb_optimized, importance_type=\"weight\")"
   ]
  },
  {
   "cell_type": "code",
   "execution_count": 551,
   "metadata": {},
   "outputs": [],
   "source": [
    "# Calibrate Predict_proba with CalibratedClassifierCV"
   ]
  },
  {
   "cell_type": "code",
   "execution_count": 552,
   "metadata": {},
   "outputs": [],
   "source": [
    "from sklearn.calibration import CalibratedClassifierCV\n",
    "calibrated = CalibratedClassifierCV(clf_xgb_optimized, method='isotonic', cv='prefit')"
   ]
  },
  {
   "cell_type": "code",
   "execution_count": 553,
   "metadata": {},
   "outputs": [],
   "source": [
    "### fit the calibrated model with test dataset\n",
    "calibrated = calibrated.fit(X_test, y_test)"
   ]
  },
  {
   "cell_type": "code",
   "execution_count": 554,
   "metadata": {},
   "outputs": [],
   "source": [
    "### calibrated probability\n",
    "probability = (calibrated.predict_proba(X_encoded))"
   ]
  },
  {
   "cell_type": "markdown",
   "metadata": {},
   "source": [
    "# Prediction"
   ]
  },
  {
   "cell_type": "code",
   "execution_count": 555,
   "metadata": {},
   "outputs": [],
   "source": [
    "# Handle test dataset\n",
    "X_test = test.loc[:, test.columns != 'hit']\n",
    "\n",
    "del X_test['id']\n",
    "del X_test['track']\n",
    "del X_test['artist']\n",
    "del X_test['uri']\n",
    "\n",
    "for x in cat_col:\n",
    "    X_test[x] = X_test[x].astype('category')\n",
    "\n",
    "X_test_encoded = pd.concat([pd.get_dummies(X_test[cat_col]), X_test[num_col]], axis=1)\n",
    "X_test_encoded = X_test_encoded[selected_features]"
   ]
  },
  {
   "cell_type": "code",
   "execution_count": 556,
   "metadata": {},
   "outputs": [],
   "source": [
    "pred = pd.DataFrame(calibrated.predict_proba(X_test_encoded))[1]\n",
    "pred_v1=pd.concat([test.id.reset_index(drop=True).astype('str'),pred],axis=1, ignore_index=True)\n",
    "pred_v1.columns = ['id', 'probability']"
   ]
  },
  {
   "cell_type": "markdown",
   "metadata": {},
   "source": [
    "<div class=\"alert alert-block alert-info\">\n",
    "Predicted value for the observations with missing hit:\n",
    "</div>"
   ]
  },
  {
   "cell_type": "code",
   "execution_count": 557,
   "metadata": {},
   "outputs": [
    {
     "data": {
      "text/html": [
       "<div>\n",
       "<style scoped>\n",
       "    .dataframe tbody tr th:only-of-type {\n",
       "        vertical-align: middle;\n",
       "    }\n",
       "\n",
       "    .dataframe tbody tr th {\n",
       "        vertical-align: top;\n",
       "    }\n",
       "\n",
       "    .dataframe thead th {\n",
       "        text-align: right;\n",
       "    }\n",
       "</style>\n",
       "<table border=\"1\" class=\"dataframe\">\n",
       "  <thead>\n",
       "    <tr style=\"text-align: right;\">\n",
       "      <th></th>\n",
       "      <th>id</th>\n",
       "      <th>probability</th>\n",
       "    </tr>\n",
       "  </thead>\n",
       "  <tbody>\n",
       "    <tr>\n",
       "      <th>0</th>\n",
       "      <td>33458</td>\n",
       "      <td>0.490153</td>\n",
       "    </tr>\n",
       "    <tr>\n",
       "      <th>1</th>\n",
       "      <td>33459</td>\n",
       "      <td>0.890359</td>\n",
       "    </tr>\n",
       "    <tr>\n",
       "      <th>2</th>\n",
       "      <td>33460</td>\n",
       "      <td>0.802867</td>\n",
       "    </tr>\n",
       "    <tr>\n",
       "      <th>3</th>\n",
       "      <td>33461</td>\n",
       "      <td>0.855491</td>\n",
       "    </tr>\n",
       "    <tr>\n",
       "      <th>4</th>\n",
       "      <td>33462</td>\n",
       "      <td>0.464286</td>\n",
       "    </tr>\n",
       "    <tr>\n",
       "      <th>...</th>\n",
       "      <td>...</td>\n",
       "      <td>...</td>\n",
       "    </tr>\n",
       "    <tr>\n",
       "      <th>7424</th>\n",
       "      <td>40882</td>\n",
       "      <td>0.953333</td>\n",
       "    </tr>\n",
       "    <tr>\n",
       "      <th>7425</th>\n",
       "      <td>40883</td>\n",
       "      <td>0.855491</td>\n",
       "    </tr>\n",
       "    <tr>\n",
       "      <th>7426</th>\n",
       "      <td>40884</td>\n",
       "      <td>0.625000</td>\n",
       "    </tr>\n",
       "    <tr>\n",
       "      <th>7427</th>\n",
       "      <td>40885</td>\n",
       "      <td>0.946429</td>\n",
       "    </tr>\n",
       "    <tr>\n",
       "      <th>7428</th>\n",
       "      <td>40886</td>\n",
       "      <td>0.020619</td>\n",
       "    </tr>\n",
       "  </tbody>\n",
       "</table>\n",
       "<p>7429 rows × 2 columns</p>\n",
       "</div>"
      ],
      "text/plain": [
       "         id  probability\n",
       "0     33458     0.490153\n",
       "1     33459     0.890359\n",
       "2     33460     0.802867\n",
       "3     33461     0.855491\n",
       "4     33462     0.464286\n",
       "...     ...          ...\n",
       "7424  40882     0.953333\n",
       "7425  40883     0.855491\n",
       "7426  40884     0.625000\n",
       "7427  40885     0.946429\n",
       "7428  40886     0.020619\n",
       "\n",
       "[7429 rows x 2 columns]"
      ]
     },
     "execution_count": 557,
     "metadata": {},
     "output_type": "execute_result"
    }
   ],
   "source": [
    "pred_v1"
   ]
  }
 ],
 "metadata": {
  "kernelspec": {
   "display_name": "Python 3",
   "language": "python",
   "name": "python3"
  },
  "language_info": {
   "codemirror_mode": {
    "name": "ipython",
    "version": 3
   },
   "file_extension": ".py",
   "mimetype": "text/x-python",
   "name": "python",
   "nbconvert_exporter": "python",
   "pygments_lexer": "ipython3",
   "version": "3.8.5"
  }
 },
 "nbformat": 4,
 "nbformat_minor": 4
}
